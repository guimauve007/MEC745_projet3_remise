{
 "cells": [
  {
   "cell_type": "markdown",
   "metadata": {},
   "source": [
    "## Example d'interface : rotation de la carte\n",
    "Permet de tourner la carte selon un angle donné."
   ]
  },
  {
   "cell_type": "code",
   "execution_count": 3,
   "metadata": {
    "scrolled": false
   },
   "outputs": [
    {
     "name": "stdout",
     "output_type": "stream",
     "text": [
      "Using matplotlib backend: TkAgg\n"
     ]
    },
    {
     "data": {
      "application/vnd.jupyter.widget-view+json": {
       "model_id": "06e7786d19d14920aab2c35b3c2a540a",
       "version_major": 2,
       "version_minor": 0
      },
      "text/plain": [
       "Dropdown(description='Salles : ', options=(1, 2, 3, 4), value=1)"
      ]
     },
     "metadata": {},
     "output_type": "display_data"
    }
   ],
   "source": [
    "%matplotlib\n",
    "from ipywidgets import Output, Dropdown\n",
    "from matplotlib import pyplot as plt\n",
    "import matplotlib.image as mpimg\n",
    "from matplotlib.patches import Rectangle\n",
    "\n",
    "# Initialisation de la carte\n",
    "fig,ax = plt.subplots(1, figsize=(6,3))\n",
    "#fig = plt.figure(figsize=(6,3))\n",
    "img = mpimg.imread(\"../Maps/a2230_map_closed_fliped.png\")\n",
    "plt.imshow(img)\n",
    "fig.canvas.draw_idle()\n",
    "\n",
    "# Définit la liste des salles et leurs coordonnées dans la carte\n",
    "dict_salles = {1:{'pos':[0,0],'w':100,'h':100,'color':'red'},\\\n",
    "               2:{'pos':[300,0],'w':10,'h':100,'color':'blue'},\\\n",
    "               3:{'pos':[50,250],'w':40,'h':40,'color':'gray'},\\\n",
    "               4:{'pos':[0,70],'w':100,'h':60,'color':'yellow'}}\n",
    "# Définit le menu déroulant\n",
    "dropdown_widget = Dropdown(options= dict_salles.keys(), description='Salles : ')\n",
    "output_room = Output()\n",
    "\n",
    "# Fonction pour ajouter un rectangle à la carte\n",
    "def drawover_map(room):\n",
    "    rect = Rectangle(dict_salles[room]['pos'], dict_salles[room]['w'], dict_salles[room]['h'], color=dict_salles[room]['color'])\n",
    "    ax.add_patch(rect)\n",
    "\n",
    "# Fonction appelée lorsque le menu déroulant est utilisé\n",
    "def on_value_change(change):\n",
    "    drawover_map(change['new'])\n",
    "\n",
    "dropdown_widget.observe(on_value_change, names='value')\n",
    "display(dropdown_widget)"
   ]
  },
  {
   "cell_type": "code",
   "execution_count": null,
   "metadata": {},
   "outputs": [],
   "source": []
  }
 ],
 "metadata": {
  "kernelspec": {
   "display_name": "Python 3",
   "language": "python",
   "name": "python3"
  },
  "language_info": {
   "codemirror_mode": {
    "name": "ipython",
    "version": 3
   },
   "file_extension": ".py",
   "mimetype": "text/x-python",
   "name": "python",
   "nbconvert_exporter": "python",
   "pygments_lexer": "ipython3",
   "version": "3.8.10"
  }
 },
 "nbformat": 4,
 "nbformat_minor": 4
}
