{
 "cells": [
  {
   "cell_type": "markdown",
   "metadata": {},
   "source": [
    "## Example d'interface : click sur une carte\n",
    "Permet de sélectionner un point sur la carte."
   ]
  },
  {
   "cell_type": "code",
   "execution_count": null,
   "metadata": {
    "scrolled": false
   },
   "outputs": [],
   "source": [
    "from ipywidgets import Image, HBox, HTML\n",
    "from ipyevents import Event\n",
    "from IPython.display import clear_output, display  \n",
    "\n",
    "\n",
    "image_file = open(\"../Maps/a2230_map_closed_fliped.png\", 'rb')\n",
    "\n",
    "map_offset_x = 1185\n",
    "map_offset_y = 1130\n",
    "\n",
    "i = Image(\n",
    "        value=image_file.read(),\n",
    "        format=\"jpeg\",\n",
    "        height=\"30%\",\n",
    "        width=\"50%\")\n",
    "\n",
    "out = []\n",
    "\n",
    "def on_image_click(event):\n",
    "    global out\n",
    "    out = [event['dataX'], event['dataY']]\n",
    "    clear_output(wait=True)  # Clear the previous output\n",
    "    print(out)  # Print the new output\n",
    "    display(hb)  # Re-display the widget to prevent it from disappearing\n",
    "    \n",
    "hb = HBox()\n",
    "hb.children = [i]\n",
    "hb.layout.height = \"300px\"\n",
    "d = Event(source=i, watched_events=['click'])\n",
    "d.on_dom_event(on_image_click)\n",
    "display(hb)\n"
   ]
  },
  {
   "cell_type": "code",
   "execution_count": null,
   "metadata": {},
   "outputs": [],
   "source": []
  }
 ],
 "metadata": {
  "kernelspec": {
   "display_name": "Python 3",
   "language": "python",
   "name": "python3"
  },
  "language_info": {
   "codemirror_mode": {
    "name": "ipython",
    "version": 3
   },
   "file_extension": ".py",
   "mimetype": "text/x-python",
   "name": "python",
   "nbconvert_exporter": "python",
   "pygments_lexer": "ipython3",
   "version": "3.8.10"
  }
 },
 "nbformat": 4,
 "nbformat_minor": 4
}
