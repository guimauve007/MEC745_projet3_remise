{
 "cells": [
  {
   "cell_type": "markdown",
   "metadata": {},
   "source": [
    "## Import des paquets Python"
   ]
  },
  {
   "cell_type": "code",
   "execution_count": 14,
   "metadata": {},
   "outputs": [],
   "source": [
    "# Import des paquets requis et configuration du ROS Master\n",
    "import os, sys\n",
    "sys.path.append(os.path.abspath(os.path.dirname(os.getcwd())))\n",
    "from lab_utils.ip_config import get_ip\n",
    "sys.path.append('/opt/ros/noetic/lib/python3/dist-packages/')\n",
    "sys.path.append('/usr/lib/python3/dist-packages')\n",
    "from os import environ\n",
    "import rospy\n",
    "from std_msgs.msg import Float32MultiArray\n",
    "from jackal_msgs.msg import Drive\n",
    "from nav_msgs.msg import Odometry\n",
    "from geometry_msgs.msg import Pose, PoseStamped, PoseWithCovarianceStamped\n",
    "from sensor_msgs.msg import Imu\n",
    "from sensor_msgs.msg import CompressedImage\n",
    "from apriltag_ros.msg import AprilTagDetectionArray"
   ]
  },
  {
   "cell_type": "code",
   "execution_count": 15,
   "metadata": {},
   "outputs": [],
   "source": [
    "VOTRE_NUMERO_EQUIPE = 1\n",
    "SIM = True\n",
    "ADMIN = False\n",
    "VOTRE_NUMERO_ROBOT = 7"
   ]
  },
  {
   "cell_type": "code",
   "execution_count": 16,
   "metadata": {},
   "outputs": [],
   "source": [
    "if SIM:\n",
    "    environ['ROS_MASTER_URI'] = f\"http://localhost:113{70+VOTRE_NUMERO_EQUIPE if not ADMIN else 11}/\"\n",
    "else:\n",
    "    environ['ROS_MASTER_URI'] = \"http://cpr-ets05-0{}.local:11311/\".format(VOTRE_NUMERO_ROBOT)\n",
    "    environ['ROS_IP'] = get_ip() # adresse IP de votre station de travail"
   ]
  },
  {
   "cell_type": "code",
   "execution_count": 17,
   "metadata": {},
   "outputs": [],
   "source": [
    "rospy.init_node('dingo_controller', anonymous=True)\n",
    "rate = rospy.Rate(50)"
   ]
  },
  {
   "cell_type": "markdown",
   "metadata": {},
   "source": [
    "## Création des 'callbacks'\n",
    "Chaque fonction est associée à un sujet ROS et enregistre en continue sont contenu dans une variable globale."
   ]
  },
  {
   "cell_type": "code",
   "execution_count": 18,
   "metadata": {},
   "outputs": [],
   "source": [
    "# Odometry subscriber callback\n",
    "odom_msg = Pose()\n",
    "def odom_callback(msg):\n",
    "    global odom_msg\n",
    "    odom_msg  = msg.pose.pose"
   ]
  },
  {
   "cell_type": "code",
   "execution_count": 19,
   "metadata": {},
   "outputs": [],
   "source": [
    "# Realsense Pose subscriber callback\n",
    "# pose_msg = Pose()\n",
    "# def pose_callback(msg):\n",
    "#     global pose_msg\n",
    "#     pose_msg = msg.pose.pose\n",
    "    # pose = PoseStamped()\n",
    "\n",
    "    # pose.header.seq = 1\n",
    "    # pose.header.stamp = rospy.Time.now()\n",
    "    # pose.header.frame_id = \"map\"\n",
    "\n",
    "    # pose.pose.position.x = pose_msg.position.x\n",
    "    # pose.pose.position.y = pose_msg.position.y\n",
    "    # pose.pose.position.z = 0.0\n",
    "\n",
    "    # pose.pose.orientation.x = pose_msg.orientation.x\n",
    "    # pose.pose.orientation.y = pose_msg.orientation.y\n",
    "    # pose.pose.orientation.z = pose_msg.orientation.z\n",
    "    # pose.pose.orientation.w = pose_msg.orientation.w\n",
    "\n",
    "    # pose_pub.publish(pose)"
   ]
  },
  {
   "cell_type": "code",
   "execution_count": 20,
   "metadata": {},
   "outputs": [],
   "source": [
    "# AMCL_pose callback (pour la visualisation de la pose)\n",
    "pose_msg = Pose()\n",
    "def amcl_callback(msg):\n",
    "    global pose_msg\n",
    "    pose_msg = msg.pose.pose\n",
    "    pose = PoseStamped()\n",
    "\n",
    "    pose.header.seq = 1\n",
    "    pose.header.stamp = rospy.Time.now()\n",
    "    pose.header.frame_id = \"map\"\n",
    "\n",
    "    pose.pose.position.x = pose_msg.position.x\n",
    "    pose.pose.position.y = pose_msg.position.y\n",
    "    pose.pose.position.z = 0.0\n",
    "\n",
    "    pose.pose.orientation.x = pose_msg.orientation.x\n",
    "    pose.pose.orientation.y = pose_msg.orientation.y\n",
    "    pose.pose.orientation.z = pose_msg.orientation.z\n",
    "    pose.pose.orientation.w = pose_msg.orientation.w\n",
    "\n",
    "    pose_pub.publish(pose)"
   ]
  },
  {
   "cell_type": "code",
   "execution_count": 21,
   "metadata": {},
   "outputs": [],
   "source": [
    "# AprilTag subscriber callback\n",
    "tag_array = AprilTagDetectionArray()\n",
    "def tag_callback(msg):\n",
    "    global tag_array\n",
    "    tag_array  = msg"
   ]
  },
  {
   "cell_type": "code",
   "execution_count": 22,
   "metadata": {},
   "outputs": [],
   "source": [
    "# Imu subscriber callback\n",
    "imu_msg = Imu()\n",
    "def imu_callback(msg):\n",
    "    global imu_msg\n",
    "    imu_msg = msg"
   ]
  },
  {
   "cell_type": "code",
   "execution_count": 23,
   "metadata": {},
   "outputs": [],
   "source": [
    "# Camera subscriber callback\n",
    "cam_msg = CompressedImage()\n",
    "def cam_callback(msg):\n",
    "    global cam_msg\n",
    "    cam_msg = msg"
   ]
  },
  {
   "cell_type": "code",
   "execution_count": 24,
   "metadata": {},
   "outputs": [],
   "source": [
    "# ROS subscribers et publishers\n",
    "cmd_drive_pub = rospy.Publisher('/mobile_manip/dingo_velocity_controller/cmd_drive', Drive, queue_size=1)\n",
    "pose_pub = rospy.Publisher('/mobile_manip/pose', PoseStamped, queue_size=1)\n",
    "amcl_sub = rospy.Subscriber('/amcl_pose', PoseWithCovarianceStamped, amcl_callback)\n",
    "#pose_sub = rospy.Subscriber('/mobile_manip/dingo_velocity_controller/odom', Odometry, odom_callback)\n",
    "#pose_sub = rospy.Subscriber('/mobile_manip/t265/odom/sample', Odometry, pose_callback)\n",
    "imu_sub = rospy.Subscriber('/imu/data', Imu, imu_callback)\n",
    "cam_sub = rospy.Subscriber('/mobile_manip/d435i/color/image_raw/compressed', CompressedImage, cam_callback)\n",
    "tag_sub = rospy.Subscriber('/tag_detections', AprilTagDetectionArray, tag_callback)"
   ]
  },
  {
   "cell_type": "markdown",
   "metadata": {},
   "source": [
    "## Contrôleur du mouvement"
   ]
  },
  {
   "cell_type": "code",
   "execution_count": 25,
   "metadata": {},
   "outputs": [],
   "source": [
    "interwheel_distance = 0.46\n",
    "left_wheel_radius = 0.045\n",
    "right_wheel_radius = 0.045\n",
    "def move_robot(linear, angular):\n",
    "    vel_left  = (linear - angular * interwheel_distance / 2.0) / left_wheel_radius\n",
    "    vel_right = (linear + angular * interwheel_distance / 2.0) / right_wheel_radius\n",
    "\n",
    "    # Envoi des commandes au roues par topic ROS\n",
    "    cmd_drive_msg = Drive()\n",
    "    cmd_drive_msg.drivers[0] = vel_left\n",
    "    cmd_drive_msg.drivers[1] = vel_right\n",
    "    cmd_drive_pub.publish(cmd_drive_msg)"
   ]
  },
  {
   "cell_type": "markdown",
   "metadata": {},
   "source": [
    "## Interface manuelle\n",
    "Permet le contrôle du robot avec des flèches et un retour visuel de la caméra frontale."
   ]
  },
  {
   "cell_type": "code",
   "execution_count": 26,
   "metadata": {},
   "outputs": [
    {
     "data": {
      "application/vnd.jupyter.widget-view+json": {
       "model_id": "b3b82872f3204f1494058bf16e08284b",
       "version_major": 2,
       "version_minor": 0
      },
      "text/plain": [
       "GridspecLayout(children=(Image(value=b'\\xff\\xd8\\xff\\xe0\\x00\\x10JFIF\\x00\\x01\\x01\\x00\\x00\\x01\\x00\\x01\\x00\\x00\\xf…"
      ]
     },
     "execution_count": 26,
     "metadata": {},
     "output_type": "execute_result"
    }
   ],
   "source": [
    "from ipywidgets import HBox, Box, Layout, GridspecLayout\n",
    "import ipywidgets as widgets\n",
    "import threading\n",
    "import time\n",
    "# Image update done with threading, maybe look at ipywebrtc for upgrade\n",
    "\n",
    "# JUPYTER-ROS\n",
    "# v = ros3d.Viewer()\n",
    "# rc = ros3d.ROSConnection(url=\"ws://localhost:9090\")\n",
    "# tf_client = ros3d.TFClient(ros=rc, fixed_frame='/map')\n",
    "# g = ros3d.GridModel()\n",
    "# laser_view = ros3d.LaserScan(topic=\"/scan\", ros=rc, tf_client=tf_client)\n",
    "# map_view = ros3d.OccupancyGrid(topic=\"/map\", ros=rc, tf_client=tf_client)\n",
    "# pose_view = ros3d.Pose(topic=\"/mobile_manip/pose\", ros=rc, tf_client=tf_client)\n",
    "# v.objects = [laser_view, map_view, pose_view]\n",
    "# v.layout = Layout(border=\"3px solid black\", width=\"700px\", height=\"600px\")\n",
    "\n",
    "image = widgets.Image(\n",
    "        value=cam_msg.data,\n",
    "        format=\"png\",\n",
    "        height=\"120%\",\n",
    "        width=\"200%\")\n",
    "\n",
    "btn_up = widgets.Button(icon='arrow-up')\n",
    "btn_left = widgets.Button(icon='arrow-left')\n",
    "btn_down = widgets.Button(icon='arrow-down')\n",
    "btn_right = widgets.Button(icon='arrow-right')\n",
    "btn_stop = widgets.Button(description='Stop')\n",
    "\n",
    "def update_plot():\n",
    "    while True:\n",
    "        image.value=cam_msg.data\n",
    "        time.sleep(0.1)\n",
    "\n",
    "def on_btn_up_clicked(b):\n",
    "    move_robot(0.5,0)\n",
    "        \n",
    "def on_btn_left_clicked(b):\n",
    "    move_robot(0,0.5)\n",
    "        \n",
    "def on_btn_down_clicked(b):\n",
    "    move_robot(-0.5,0)\n",
    "        \n",
    "def on_btn_right_clicked(b):\n",
    "    move_robot(0,-0.5)\n",
    "    \n",
    "def on_btn_stop_clicked(b):\n",
    "    move_robot(0,0)\n",
    "\n",
    "btn_up.on_click(on_btn_up_clicked)\n",
    "btn_left.on_click(on_btn_left_clicked)\n",
    "btn_down.on_click(on_btn_down_clicked)\n",
    "btn_right.on_click(on_btn_right_clicked)\n",
    "btn_stop.on_click(on_btn_stop_clicked)\n",
    "\n",
    "# JUPYTER-ROS\n",
    "# form = Box(image, layout=Layout(\n",
    "#     display='flex',\n",
    "#     flex_flow='column',\n",
    "#     border='solid 2px',\n",
    "#     align_items='stretch',\n",
    "#     width='50%',\n",
    "#     padding='10px'\n",
    "# ))\n",
    "\n",
    "# box = HBox(children=[image, v, btn_up, btn_stop])\n",
    "# box.layout.padding = \"0px\"\n",
    "# box\n",
    "\n",
    "grid = GridspecLayout(8, 8,height='600px')\n",
    "\n",
    "grid[0:4,0:3] = image\n",
    "grid[5,1] = btn_up\n",
    "grid[6,0] = btn_left\n",
    "grid[6,1] = btn_stop\n",
    "grid[6,2] = btn_right\n",
    "grid[7,1] = btn_down\n",
    "#grid[:,4:7] = v\n",
    "thread = threading.Thread(target=update_plot)\n",
    "thread.start()\n",
    "grid"
   ]
  },
  {
   "cell_type": "code",
   "execution_count": null,
   "metadata": {},
   "outputs": [],
   "source": []
  }
 ],
 "metadata": {
  "kernelspec": {
   "display_name": "Python 3",
   "language": "python",
   "name": "python3"
  },
  "language_info": {
   "codemirror_mode": {
    "name": "ipython",
    "version": 3
   },
   "file_extension": ".py",
   "mimetype": "text/x-python",
   "name": "python",
   "nbconvert_exporter": "python",
   "pygments_lexer": "ipython3",
   "version": "3.8.10"
  }
 },
 "nbformat": 4,
 "nbformat_minor": 4
}
