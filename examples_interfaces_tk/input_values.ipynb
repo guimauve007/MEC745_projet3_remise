{
 "cells": [
  {
   "cell_type": "markdown",
   "metadata": {},
   "source": [
    "## Example d'interface : Entrées X Y\n",
    "Permet d'insérer des valeurs x et y pour déterminer un nouvel objectif."
   ]
  },
  {
   "cell_type": "code",
   "execution_count": null,
   "metadata": {},
   "outputs": [
    {
     "name": "stdout",
     "output_type": "stream",
     "text": [
      "X: 5.0  Y: 0.0\n",
      "X: 5.0  Y: 33.0\n"
     ]
    },
    {
     "data": {
      "image/png": "[encoded data removed]",
      "text/plain": [
       "<Figure size 600x300 with 1 Axes>"
      ]
     },
     "metadata": {},
     "output_type": "display_data"
    }
   ],
   "source": [
    "import tkinter as tk\n",
    "from tkinter import ttk\n",
    "import matplotlib.pyplot as plt\n",
    "from matplotlib.backends.backend_tkagg import FigureCanvasTkAgg\n",
    "\n",
    "import os, sys\n",
    "sys.path.append(os.path.abspath(os.path.join(os.path.dirname(__file__), '..')))\n",
    "\n",
    "# Fonction appelée au click du bouton 'GO'\n",
    "def button_widget_clicked():\n",
    "    # Lire les valeurs x et y\n",
    "    x = float(x_widget.get())\n",
    "    y = float(y_widget.get())\n",
    "    \n",
    "    # Afficher les valeurs dans la console\n",
    "    print(\"X:\", x, \" Y:\", y)\n",
    "    \n",
    "    # Ajouter un point à la figure avec les nouvelles coordonnées\n",
    "    ax.plot(x, y, 'ro')  # 'ro' pour un point rouge\n",
    "    canvas.draw()  # Mettre à jour la figure\n",
    "\n",
    "# Création de la fenêtre Tkinter\n",
    "root = tk.Tk()\n",
    "root.title(\"Coordonnées X et Y\")\n",
    "\n",
    "# Création de la figure Matplotlib\n",
    "fig, ax = plt.subplots(figsize=(6, 3))\n",
    "\n",
    "# Ajouter un titre et des labels pour l'axe\n",
    "ax.set_title(\"Plot des points X, Y\")\n",
    "ax.set_xlabel(\"X (m)\")\n",
    "ax.set_ylabel(\"Y (m)\")\n",
    "\n",
    "# Créer le canevas pour afficher la figure Matplotlib\n",
    "canvas = FigureCanvasTkAgg(fig, master=root)\n",
    "canvas.get_tk_widget().pack()\n",
    "\n",
    "# Widgets pour saisir les valeurs de X et Y\n",
    "x_label = tk.Label(root, text=\"X (m):\")\n",
    "x_label.pack(side=tk.LEFT)\n",
    "x_widget = ttk.Entry(root)\n",
    "x_widget.insert(0, \"0.0\")  # valeur initiale\n",
    "x_widget.pack(side=tk.LEFT)\n",
    "\n",
    "y_label = tk.Label(root, text=\"Y (m):\")\n",
    "y_label.pack(side=tk.LEFT)\n",
    "y_widget = ttk.Entry(root)\n",
    "y_widget.insert(0, \"0.0\")  # valeur initiale\n",
    "y_widget.pack(side=tk.LEFT)\n",
    "\n",
    "# Création du bouton 'GO'\n",
    "button_widget = tk.Button(root, text=\"Go!\", command=button_widget_clicked)\n",
    "button_widget.pack(side=tk.LEFT)\n",
    "\n",
    "# Lancer l'interface Tkinter\n",
    "root.mainloop()\n"
   ]
  },
  {
   "cell_type": "code",
   "execution_count": null,
   "metadata": {},
   "outputs": [],
   "source": []
  }
 ],
 "metadata": {
  "kernelspec": {
   "display_name": "Python 3",
   "language": "python",
   "name": "python3"
  },
  "language_info": {
   "codemirror_mode": {
    "name": "ipython",
    "version": 3
   },
   "file_extension": ".py",
   "mimetype": "text/x-python",
   "name": "python",
   "nbconvert_exporter": "python",
   "pygments_lexer": "ipython3",
   "version": "3.8.10"
  }
 },
 "nbformat": 4,
 "nbformat_minor": 4
}
