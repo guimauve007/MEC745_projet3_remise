{
 "cells": [
  {
   "cell_type": "markdown",
   "metadata": {},
   "source": [
    "## Example d'interface : click sur une carte\n",
    "Permet de sélectionner un point sur la carte."
   ]
  },
  {
   "cell_type": "code",
   "execution_count": 1,
   "metadata": {
    "scrolled": false
   },
   "outputs": [
    {
     "name": "stdout",
     "output_type": "stream",
     "text": [
      "[-390, -620]\n",
      "[-391, -546]\n",
      "[-359, -479]\n",
      "[-457, -500]\n",
      "[-480, -589]\n",
      "[-920, -684]\n",
      "[-947, -900]\n",
      "[-992, -969]\n",
      "[-472, -525]\n",
      "[-254, -289]\n",
      "[-436, -499]\n",
      "[-365, -595]\n",
      "[-315, -536]\n"
     ]
    }
   ],
   "source": [
    "import tkinter as tk\n",
    "from tkinter import Canvas\n",
    "from PIL import Image, ImageTk\n",
    "\n",
    "import os, sys\n",
    "sys.path.append(os.path.abspath(os.path.join(os.path.dirname(__file__), '..')))\n",
    "\n",
    "map_offset_x = 1185\n",
    "map_offset_y = 1130\n",
    "\n",
    "# Fonction pour gérer les clics sur l'image\n",
    "def on_image_click(event):\n",
    "    global map_offset_x, map_offset_y\n",
    "    x, y = event.x, event.y  # Obtenir les coordonnées du clic\n",
    "    out = [x-map_offset_x, y-map_offset_y]  # Sauvegarder les coordonnées\n",
    "    print(out)  # Afficher les coordonnées dans la console\n",
    "\n",
    "# Créer la fenêtre Tkinter\n",
    "root = tk.Tk()\n",
    "root.title(\"Image Click Example\")\n",
    "\n",
    "# Charger l'image\n",
    "image_path = \"Maps/a2230_map_closed_fliped.png\"\n",
    "img = Image.open(image_path)\n",
    "img = img.resize((int(img.width * 0.5), int(img.height * 0.5)))  # Redimensionner l'image\n",
    "photo = ImageTk.PhotoImage(img)\n",
    "\n",
    "# Créer un widget Canvas pour afficher l'image\n",
    "canvas = Canvas(root, width=img.width, height=img.height)\n",
    "canvas.pack()\n",
    "\n",
    "# Afficher l'image dans le Canvas\n",
    "canvas.create_image(0, 0, anchor=tk.NW, image=photo)\n",
    "\n",
    "# Ajouter un gestionnaire d'événements pour les clics sur l'image\n",
    "canvas.bind(\"<Button-1>\", on_image_click)  # <Button-1> correspond au clic gauche de la souris\n",
    "\n",
    "# Lancer l'interface Tkinter\n",
    "root.mainloop()\n"
   ]
  },
  {
   "cell_type": "code",
   "execution_count": null,
   "metadata": {},
   "outputs": [],
   "source": []
  }
 ],
 "metadata": {
  "kernelspec": {
   "display_name": "Python 3",
   "language": "python",
   "name": "python3"
  },
  "language_info": {
   "codemirror_mode": {
    "name": "ipython",
    "version": 3
   },
   "file_extension": ".py",
   "mimetype": "text/x-python",
   "name": "python",
   "nbconvert_exporter": "python",
   "pygments_lexer": "ipython3",
   "version": "3.8.10"
  }
 },
 "nbformat": 4,
 "nbformat_minor": 4
}
