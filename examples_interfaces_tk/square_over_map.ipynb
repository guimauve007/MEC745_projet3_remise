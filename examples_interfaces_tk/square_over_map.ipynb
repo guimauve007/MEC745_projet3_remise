{
 "cells": [
  {
   "cell_type": "markdown",
   "metadata": {},
   "source": [
    "## Example d'interface : rotation de la carte\n",
    "Permet de tourner la carte selon un angle donné."
   ]
  },
  {
   "cell_type": "code",
   "execution_count": 1,
   "metadata": {
    "scrolled": false
   },
   "outputs": [
    {
     "ename": "NameError",
     "evalue": "name '__file__' is not defined",
     "output_type": "error",
     "traceback": [
      "\u001b[0;31m---------------------------------------------------------------------------\u001b[0m",
      "\u001b[0;31mNameError\u001b[0m                                 Traceback (most recent call last)",
      "Cell \u001b[0;32mIn[1], line 9\u001b[0m\n\u001b[1;32m      6\u001b[0m \u001b[38;5;28;01mfrom\u001b[39;00m \u001b[38;5;21;01mmatplotlib\u001b[39;00m\u001b[38;5;21;01m.\u001b[39;00m\u001b[38;5;21;01mpatches\u001b[39;00m \u001b[38;5;28;01mimport\u001b[39;00m Rectangle\n\u001b[1;32m      8\u001b[0m \u001b[38;5;28;01mimport\u001b[39;00m \u001b[38;5;21;01mos\u001b[39;00m\u001b[38;5;241m,\u001b[39m \u001b[38;5;21;01msys\u001b[39;00m\n\u001b[0;32m----> 9\u001b[0m sys\u001b[38;5;241m.\u001b[39mpath\u001b[38;5;241m.\u001b[39mappend(os\u001b[38;5;241m.\u001b[39mpath\u001b[38;5;241m.\u001b[39mabspath(os\u001b[38;5;241m.\u001b[39mpath\u001b[38;5;241m.\u001b[39mjoin(os\u001b[38;5;241m.\u001b[39mpath\u001b[38;5;241m.\u001b[39mdirname(\u001b[38;5;18;43m__file__\u001b[39;49m), \u001b[38;5;124m'\u001b[39m\u001b[38;5;124m..\u001b[39m\u001b[38;5;124m'\u001b[39m)))\n\u001b[1;32m     10\u001b[0m \u001b[38;5;66;03m# Initialisation de la carte\u001b[39;00m\n\u001b[1;32m     11\u001b[0m img \u001b[38;5;241m=\u001b[39m mpimg\u001b[38;5;241m.\u001b[39mimread(\u001b[38;5;124m\"\u001b[39m\u001b[38;5;124mMaps/a2230_map_closed_fliped.png\u001b[39m\u001b[38;5;124m\"\u001b[39m)\n",
      "\u001b[0;31mNameError\u001b[0m: name '__file__' is not defined"
     ]
    }
   ],
   "source": [
    "import tkinter as tk\n",
    "from tkinter import ttk\n",
    "import matplotlib.pyplot as plt\n",
    "import matplotlib.image as mpimg\n",
    "from matplotlib.backends.backend_tkagg import FigureCanvasTkAgg\n",
    "from matplotlib.patches import Rectangle\n",
    "\n",
    "import os, sys\n",
    "sys.path.append(os.path.abspath(os.path.join(os.path.dirname(__file__), '..')))\n",
    "\n",
    "# Initialisation de la carte\n",
    "img = mpimg.imread(\"Maps/a2230_map_closed_fliped.png\")\n",
    "\n",
    "# Définit la liste des salles et leurs coordonnées dans la carte\n",
    "dict_salles = {\n",
    "    1: {'pos': [0, 0], 'w': 100, 'h': 100, 'color': 'red'},\n",
    "    2: {'pos': [300, 0], 'w': 10, 'h': 100, 'color': 'blue'},\n",
    "    3: {'pos': [50, 250], 'w': 40, 'h': 40, 'color': 'gray'},\n",
    "    4: {'pos': [0, 70], 'w': 100, 'h': 60, 'color': 'yellow'}\n",
    "}\n",
    "\n",
    "# Création de la fenêtre Tkinter\n",
    "root = tk.Tk()\n",
    "root.title(\"Room Selector\")\n",
    "\n",
    "# Fonction pour dessiner un rectangle sur la carte\n",
    "def drawover_map(room, add_rect=True):\n",
    "    # Display the image once and keep it static\n",
    "    ax.imshow(img)\n",
    "    if add_rect:\n",
    "        rect = Rectangle(dict_salles[room]['pos'], dict_salles[room]['w'], dict_salles[room]['h'], color=dict_salles[room]['color'])\n",
    "        ax.add_patch(rect)\n",
    "    canvas.draw()  # Update the canvas\n",
    "\n",
    "# Fonction appelée lorsque le menu déroulant est utilisé\n",
    "def on_room_select(event):\n",
    "    room = int(room_dropdown.get())  # Get the selected room number\n",
    "    drawover_map(room, add_rect=True)\n",
    "\n",
    "# Initialisation de la figure Matplotlib\n",
    "fig, ax = plt.subplots(figsize=(6,3))\n",
    "\n",
    "# Create the canvas and add it to the Tkinter window\n",
    "canvas = FigureCanvasTkAgg(fig, master=root)\n",
    "canvas.get_tk_widget().pack()\n",
    "\n",
    "# Création du menu déroulant\n",
    "room_dropdown = ttk.Combobox(root, values=list(dict_salles.keys()))\n",
    "room_dropdown.set(1)  # Default to room 1\n",
    "room_dropdown.bind('<<ComboboxSelected>>', on_room_select)\n",
    "room_dropdown.pack()\n",
    "\n",
    "# Lancer l'interface Tkinter\n",
    "drawover_map(1, add_rect=False)  # Initially display the image without drawing a rectangle\n",
    "root.mainloop()\n"
   ]
  }
 ],
 "metadata": {
  "kernelspec": {
   "display_name": "Python 3",
   "language": "python",
   "name": "python3"
  },
  "language_info": {
   "codemirror_mode": {
    "name": "ipython",
    "version": 3
   },
   "file_extension": ".py",
   "mimetype": "text/x-python",
   "name": "python",
   "nbconvert_exporter": "python",
   "pygments_lexer": "ipython3",
   "version": "3.8.10"
  }
 },
 "nbformat": 4,
 "nbformat_minor": 4
}
