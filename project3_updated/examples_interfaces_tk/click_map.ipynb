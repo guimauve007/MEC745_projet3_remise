{
 "cells": [
  {
   "cell_type": "markdown",
   "metadata": {},
   "source": [
    "## Example d'interface : click sur une carte\n",
    "Permet de sélectionner un point sur la carte."
   ]
  },
  {
   "cell_type": "code",
   "execution_count": 1,
   "metadata": {
    "scrolled": false
   },
   "outputs": [],
   "source": [
    "import tkinter as tk\n",
    "from tkinter import Canvas\n",
    "from PIL import Image, ImageTk\n",
    "\n",
    "scaling = 1/4\n",
    "origin_x = 1444.7\n",
    "origin_y = 1052.1\n",
    "\n",
    "map_offset_x = origin_x * scaling\n",
    "map_offset_y = origin_y * scaling\n",
    "\n",
    "# Function to handle clicks on the image\n",
    "def on_image_click(event):\n",
    "    x, y = event.x, event.y  # Get click coordinates\n",
    "    out = [x / scaling, y / scaling]  # Compute adjusted coordinates\n",
    "    print(out)  # Print the coordinates to the console\n",
    "\n",
    "# Create the Tkinter window\n",
    "root = tk.Tk()\n",
    "root.title(\"Image Click Example\")\n",
    "\n",
    "# Load the image\n",
    "image_path = \"../Maps/a2230_map_closed.png\"\n",
    "img = Image.open(image_path)\n",
    "img = img.resize((int(img.width * scaling), int(img.height * scaling)))  # Resize the image\n",
    "photo = ImageTk.PhotoImage(img)\n",
    "\n",
    "# Create a Canvas widget to display the image\n",
    "canvas = Canvas(root, width=img.width, height=img.height)\n",
    "canvas.pack()\n",
    "\n",
    "# Display the image on the Canvas\n",
    "canvas.create_image(0, 0, anchor=tk.NW, image=photo)\n",
    "\n",
    "# Draw a marker (a small red circle) at the origin coordinates\n",
    "marker_radius = 2  # Radius of the marker in pixels\n",
    "# Coordinates for the oval (circle) are defined by the top-left and bottom-right corners\n",
    "canvas.create_oval(\n",
    "    map_offset_x - marker_radius, map_offset_y - marker_radius,\n",
    "    map_offset_x + marker_radius, map_offset_y + marker_radius,\n",
    "    fill=\"red\", outline=\"black\"\n",
    ")\n",
    "\n",
    "# Bind the left mouse click event to the function\n",
    "canvas.bind(\"<Button-1>\", on_image_click)\n",
    "\n",
    "# Start the Tkinter event loop\n",
    "root.mainloop()\n"
   ]
  },
  {
   "cell_type": "code",
   "execution_count": null,
   "metadata": {},
   "outputs": [],
   "source": []
  }
 ],
 "metadata": {
  "kernelspec": {
   "display_name": "Python 3",
   "language": "python",
   "name": "python3"
  },
  "language_info": {
   "codemirror_mode": {
    "name": "ipython",
    "version": 3
   },
   "file_extension": ".py",
   "mimetype": "text/x-python",
   "name": "python",
   "nbconvert_exporter": "python",
   "pygments_lexer": "ipython3",
   "version": "3.8.10"
  }
 },
 "nbformat": 4,
 "nbformat_minor": 4
}
