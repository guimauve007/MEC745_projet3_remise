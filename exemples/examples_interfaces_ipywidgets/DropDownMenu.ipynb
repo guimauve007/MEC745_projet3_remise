{
 "cells": [
  {
   "cell_type": "markdown",
   "metadata": {},
   "source": [
    "## Example d'interface : menu déroulant\n",
    "Permet de sélectionner un élément d'une liste."
   ]
  },
  {
   "cell_type": "code",
   "execution_count": null,
   "metadata": {},
   "outputs": [],
   "source": [
    "import ipywidgets as widgets\n",
    "from ipywidgets import GridspecLayout\n",
    "\n",
    "# Définit le menu déroulant\n",
    "liste_salles = [1, 2, 3, 4, 5, 6, 7, 8, 9, 10]\n",
    "dropdown_widget = widgets.Dropdown(options=liste_salles, value=liste_salles[0], description='Salles : ')\n",
    "\n",
    "# Fonction appelée au click du bouton 'GO'\n",
    "def button_widget_clicked(b):\n",
    "    # Remplacer par un appel vers une fonction permetttant la planification de trajectoire et le déplacement...\n",
    "    print(\"Vous venez de sélectionner la salle \", dropdown_widget.value)\n",
    "    \n",
    "# Définit un bouton 'GO' \n",
    "button_widget = widgets.Button(description='Go !')\n",
    "button_widget.on_click(button_widget_clicked)\n",
    "\n",
    "# Lancer la visualisation des champs et du bouton.\n",
    "grid = GridspecLayout(1, 2,height='100px')\n",
    "grid[0,0] = dropdown_widget\n",
    "grid[0,1] = button_widget\n",
    "grid\n",
    "\n",
    "## Dans cet exemple, la sélection sera simplement imprimée sous le menu lors d'un click."
   ]
  },
  {
   "cell_type": "code",
   "execution_count": null,
   "metadata": {},
   "outputs": [],
   "source": []
  }
 ],
 "metadata": {
  "kernelspec": {
   "display_name": "Python 3",
   "language": "python",
   "name": "python3"
  },
  "language_info": {
   "codemirror_mode": {
    "name": "ipython",
    "version": 3
   },
   "file_extension": ".py",
   "mimetype": "text/x-python",
   "name": "python",
   "nbconvert_exporter": "python",
   "pygments_lexer": "ipython3",
   "version": "3.8.10"
  }
 },
 "nbformat": 4,
 "nbformat_minor": 4
}
