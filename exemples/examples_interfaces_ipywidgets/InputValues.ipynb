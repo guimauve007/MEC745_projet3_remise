{
 "cells": [
  {
   "cell_type": "markdown",
   "metadata": {},
   "source": [
    "## Example d'interface : Entrées X Y\n",
    "Permet d'insérer des valeurs x et y pour déterminer un nouvel objectif."
   ]
  },
  {
   "cell_type": "code",
   "execution_count": null,
   "metadata": {},
   "outputs": [],
   "source": [
    "import ipywidgets as widgets\n",
    "from ipywidgets import GridspecLayout\n",
    "\n",
    "# Définit les champs de valeurs\n",
    "x_widget = widgets.BoundedFloatText(value=0.0, min=-10.0, max=10.0, step=0.1, description='X (m): ')\n",
    "y_widget = widgets.BoundedFloatText(value=0.0, min=-10.0, max=10.0, step=0.1, description='Y (m): ')\n",
    "\n",
    "# Fonction appelée au click du bouton 'GO'\n",
    "def button_widget_clicked(b):\n",
    "    # Remplacer par un appel vers une fonction permetttant la planification de trajectoire et le déplacement...\n",
    "    print(\"X:\", float(x_widget.value), \" Y:\", float(y_widget.value))\n",
    "    \n",
    "# Définit un bouton 'GO' \n",
    "button_widget = widgets.Button(description='Go !')\n",
    "button_widget.on_click(button_widget_clicked)\n",
    "\n",
    "# Lancer la visualisation des champs et du bouton.\n",
    "grid = GridspecLayout(1, 3,height='100px')\n",
    "grid[0,0] = x_widget\n",
    "grid[0,1] = y_widget\n",
    "grid[0,2] = button_widget\n",
    "grid\n",
    "\n",
    "## Dans cet exemple, les valeurs seront simplement imprimées sous les champs lors d'un click."
   ]
  },
  {
   "cell_type": "code",
   "execution_count": null,
   "metadata": {},
   "outputs": [],
   "source": []
  }
 ],
 "metadata": {
  "kernelspec": {
   "display_name": "Python 3",
   "language": "python",
   "name": "python3"
  },
  "language_info": {
   "codemirror_mode": {
    "name": "ipython",
    "version": 3
   },
   "file_extension": ".py",
   "mimetype": "text/x-python",
   "name": "python",
   "nbconvert_exporter": "python",
   "pygments_lexer": "ipython3",
   "version": "3.8.10"
  }
 },
 "nbformat": 4,
 "nbformat_minor": 4
}
