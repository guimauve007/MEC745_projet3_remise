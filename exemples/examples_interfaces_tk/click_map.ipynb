{
 "cells": [
  {
   "cell_type": "markdown",
   "metadata": {},
   "source": [
    "## Example d'interface : click sur une carte\n",
    "Permet de sélectionner un point sur la carte."
   ]
  },
  {
   "cell_type": "code",
   "execution_count": 3,
   "metadata": {
    "scrolled": false
   },
   "outputs": [
    {
     "ename": "TclError",
     "evalue": "no display name and no $DISPLAY environment variable",
     "output_type": "error",
     "traceback": [
      "\u001b[0;31m---------------------------------------------------------------------------\u001b[0m",
      "\u001b[0;31mTclError\u001b[0m                                  Traceback (most recent call last)",
      "Cell \u001b[0;32mIn[3], line 19\u001b[0m\n\u001b[1;32m     16\u001b[0m     \u001b[38;5;28mprint\u001b[39m(out)  \u001b[38;5;66;03m# Print the coordinates to the console\u001b[39;00m\n\u001b[1;32m     18\u001b[0m \u001b[38;5;66;03m# Create the Tkinter window\u001b[39;00m\n\u001b[0;32m---> 19\u001b[0m root \u001b[38;5;241m=\u001b[39m \u001b[43mtk\u001b[49m\u001b[38;5;241;43m.\u001b[39;49m\u001b[43mTk\u001b[49m\u001b[43m(\u001b[49m\u001b[43m)\u001b[49m\n\u001b[1;32m     20\u001b[0m root\u001b[38;5;241m.\u001b[39mtitle(\u001b[38;5;124m\"\u001b[39m\u001b[38;5;124mImage Click Example\u001b[39m\u001b[38;5;124m\"\u001b[39m)\n\u001b[1;32m     22\u001b[0m \u001b[38;5;66;03m# Load the image\u001b[39;00m\n",
      "File \u001b[0;32m/opt/tljh/user/envs/mecbot/lib/python3.8/tkinter/__init__.py:2270\u001b[0m, in \u001b[0;36mTk.__init__\u001b[0;34m(self, screenName, baseName, className, useTk, sync, use)\u001b[0m\n\u001b[1;32m   2268\u001b[0m         baseName \u001b[38;5;241m=\u001b[39m baseName \u001b[38;5;241m+\u001b[39m ext\n\u001b[1;32m   2269\u001b[0m interactive \u001b[38;5;241m=\u001b[39m \u001b[38;5;241m0\u001b[39m\n\u001b[0;32m-> 2270\u001b[0m \u001b[38;5;28mself\u001b[39m\u001b[38;5;241m.\u001b[39mtk \u001b[38;5;241m=\u001b[39m \u001b[43m_tkinter\u001b[49m\u001b[38;5;241;43m.\u001b[39;49m\u001b[43mcreate\u001b[49m\u001b[43m(\u001b[49m\u001b[43mscreenName\u001b[49m\u001b[43m,\u001b[49m\u001b[43m \u001b[49m\u001b[43mbaseName\u001b[49m\u001b[43m,\u001b[49m\u001b[43m \u001b[49m\u001b[43mclassName\u001b[49m\u001b[43m,\u001b[49m\u001b[43m \u001b[49m\u001b[43minteractive\u001b[49m\u001b[43m,\u001b[49m\u001b[43m \u001b[49m\u001b[43mwantobjects\u001b[49m\u001b[43m,\u001b[49m\u001b[43m \u001b[49m\u001b[43museTk\u001b[49m\u001b[43m,\u001b[49m\u001b[43m \u001b[49m\u001b[43msync\u001b[49m\u001b[43m,\u001b[49m\u001b[43m \u001b[49m\u001b[43muse\u001b[49m\u001b[43m)\u001b[49m\n\u001b[1;32m   2271\u001b[0m \u001b[38;5;28;01mif\u001b[39;00m useTk:\n\u001b[1;32m   2272\u001b[0m     \u001b[38;5;28mself\u001b[39m\u001b[38;5;241m.\u001b[39m_loadtk()\n",
      "\u001b[0;31mTclError\u001b[0m: no display name and no $DISPLAY environment variable"
     ]
    }
   ],
   "source": [
    "import tkinter as tk\n",
    "from tkinter import Canvas\n",
    "from PIL import Image, ImageTk\n",
    "\n",
    "scaling = 1/4\n",
    "origin_x = 1444.7\n",
    "origin_y = 1052.1\n",
    "\n",
    "map_offset_x = origin_x * scaling\n",
    "map_offset_y = origin_y * scaling\n",
    "\n",
    "# Function to handle clicks on the image\n",
    "def on_image_click(event):\n",
    "    x, y = event.x, event.y  # Get click coordinates\n",
    "    out = [x / scaling, y / scaling]  # Compute adjusted coordinates\n",
    "    print(out)  # Print the coordinates to the console\n",
    "\n",
    "# Create the Tkinter window\n",
    "root = tk.Tk()\n",
    "root.title(\"Image Click Example\")\n",
    "\n",
    "# Load the image\n",
    "image_path = \"../../Maps/a2230_map_closed.png\"\n",
    "img = Image.open(image_path)\n",
    "img = img.resize((int(img.width * scaling), int(img.height * scaling)))  # Resize the image\n",
    "photo = ImageTk.PhotoImage(img)\n",
    "\n",
    "# Create a Canvas widget to display the image\n",
    "canvas = Canvas(root, width=img.width, height=img.height)\n",
    "canvas.pack()\n",
    "\n",
    "# Display the image on the Canvas\n",
    "canvas.create_image(0, 0, anchor=tk.NW, image=photo)\n",
    "\n",
    "# Draw a marker (a small red circle) at the origin coordinates\n",
    "marker_radius = 2  # Radius of the marker in pixels\n",
    "# Coordinates for the oval (circle) are defined by the top-left and bottom-right corners\n",
    "canvas.create_oval(\n",
    "    map_offset_x - marker_radius, map_offset_y - marker_radius,\n",
    "    map_offset_x + marker_radius, map_offset_y + marker_radius,\n",
    "    fill=\"red\", outline=\"black\"\n",
    ")\n",
    "\n",
    "# Bind the left mouse click event to the function\n",
    "canvas.bind(\"<Button-1>\", on_image_click)\n",
    "\n",
    "# Start the Tkinter event loop\n",
    "root.mainloop()\n"
   ]
  },
  {
   "cell_type": "code",
   "execution_count": null,
   "metadata": {},
   "outputs": [],
   "source": []
  }
 ],
 "metadata": {
  "kernelspec": {
   "display_name": "mecbot",
   "language": "python",
   "name": "mecbot"
  },
  "language_info": {
   "codemirror_mode": {
    "name": "ipython",
    "version": 3
   },
   "file_extension": ".py",
   "mimetype": "text/x-python",
   "name": "python",
   "nbconvert_exporter": "python",
   "pygments_lexer": "ipython3",
   "version": "3.8.16"
  }
 },
 "nbformat": 4,
 "nbformat_minor": 4
}
