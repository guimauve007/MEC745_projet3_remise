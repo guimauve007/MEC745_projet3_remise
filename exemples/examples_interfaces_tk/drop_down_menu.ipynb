{
 "cells": [
  {
   "cell_type": "markdown",
   "metadata": {},
   "source": [
    "## Example d'interface : menu déroulant\n",
    "Permet de sélectionner un élément d'une liste."
   ]
  },
  {
   "cell_type": "code",
   "execution_count": null,
   "metadata": {},
   "outputs": [],
   "source": [
    "import tkinter as tk\n",
    "from tkinter import ttk\n",
    "\n",
    "# Fonction appelée au click du bouton 'GO'\n",
    "def button_widget_clicked():\n",
    "    # Lire la valeur sélectionnée du menu déroulant\n",
    "    selected_room = dropdown_widget.get()\n",
    "    print(\"Vous venez de sélectionner la salle\", selected_room)\n",
    "\n",
    "# Création de la fenêtre Tkinter\n",
    "root = tk.Tk()\n",
    "root.title(\"Sélection de Salle\")\n",
    "\n",
    "# Liste des salles\n",
    "liste_salles = [1, 2, 3, 4, 5, 6, 7, 8, 9, 10]\n",
    "\n",
    "# Création du menu déroulant (Dropdown)\n",
    "dropdown_widget = ttk.Combobox(root, values=liste_salles)\n",
    "dropdown_widget.set(liste_salles[0])  # Valeur par défaut\n",
    "dropdown_widget.pack(side=tk.LEFT)\n",
    "\n",
    "# Création du bouton 'GO'\n",
    "button_widget = tk.Button(root, text=\"Go !\", command=button_widget_clicked)\n",
    "button_widget.pack(side=tk.LEFT)\n",
    "\n",
    "# Lancer l'interface Tkinter\n",
    "root.mainloop()\n"
   ]
  }
 ],
 "metadata": {
  "kernelspec": {
   "display_name": "Python 3",
   "language": "python",
   "name": "python3"
  },
  "language_info": {
   "codemirror_mode": {
    "name": "ipython",
    "version": 3
   },
   "file_extension": ".py",
   "mimetype": "text/x-python",
   "name": "python",
   "nbconvert_exporter": "python",
   "pygments_lexer": "ipython3",
   "version": "3.8.10"
  }
 },
 "nbformat": 4,
 "nbformat_minor": 4
}
